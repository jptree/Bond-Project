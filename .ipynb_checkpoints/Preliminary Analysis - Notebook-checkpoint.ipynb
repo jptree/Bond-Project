{
 "cells": [
  {
   "cell_type": "markdown",
   "id": "94b2eca5",
   "metadata": {},
   "source": [
    "# Analysis of Fixed Income Securities\n",
    "## Jason F. Petri"
   ]
  },
  {
   "cell_type": "code",
   "execution_count": 112,
   "id": "8f63eb47",
   "metadata": {},
   "outputs": [],
   "source": [
    "import numpy as np\n",
    "import pandas as pd\n",
    "import matplotlib.pyplot as plt"
   ]
  },
  {
   "cell_type": "markdown",
   "id": "3bbf7cf0",
   "metadata": {},
   "source": [
    "## Load dataset"
   ]
  },
  {
   "cell_type": "code",
   "execution_count": 40,
   "id": "0a046f94",
   "metadata": {},
   "outputs": [],
   "source": [
    "df = pd.read_csv('ctap_analytics_pnl_decomp_sample_day.csv')\n",
    "df['timestamp'] = pd.to_datetime(df['timestamp'])"
   ]
  },
  {
   "cell_type": "markdown",
   "id": "3f85b181",
   "metadata": {},
   "source": [
    "## Data exploration"
   ]
  },
  {
   "cell_type": "code",
   "execution_count": 41,
   "id": "6ab0ea34",
   "metadata": {},
   "outputs": [
    {
     "data": {
      "text/html": [
       "<div>\n",
       "<style scoped>\n",
       "    .dataframe tbody tr th:only-of-type {\n",
       "        vertical-align: middle;\n",
       "    }\n",
       "\n",
       "    .dataframe tbody tr th {\n",
       "        vertical-align: top;\n",
       "    }\n",
       "\n",
       "    .dataframe thead th {\n",
       "        text-align: right;\n",
       "    }\n",
       "</style>\n",
       "<table border=\"1\" class=\"dataframe\">\n",
       "  <thead>\n",
       "    <tr style=\"text-align: right;\">\n",
       "      <th></th>\n",
       "      <th>timestamp</th>\n",
       "      <th>type</th>\n",
       "      <th>cusip</th>\n",
       "      <th>spread_pnl</th>\n",
       "      <th>benchmark_cusip</th>\n",
       "      <th>new_position</th>\n",
       "      <th>ticker</th>\n",
       "      <th>securitydes</th>\n",
       "      <th>industrySector</th>\n",
       "      <th>mat_bucket</th>\n",
       "      <th>liq_score</th>\n",
       "      <th>liq_bucket</th>\n",
       "      <th>weightedage</th>\n",
       "    </tr>\n",
       "  </thead>\n",
       "  <tbody>\n",
       "    <tr>\n",
       "      <th>0</th>\n",
       "      <td>2021-07-28 06:00:00</td>\n",
       "      <td>MARK</td>\n",
       "      <td>718172CQ0</td>\n",
       "      <td>-0.618819</td>\n",
       "      <td>91282CCK5</td>\n",
       "      <td>-39</td>\n",
       "      <td>PM</td>\n",
       "      <td>PM 1 1/8 05/01/23</td>\n",
       "      <td>Consumer, Non-cyclical</td>\n",
       "      <td>B02</td>\n",
       "      <td>1487</td>\n",
       "      <td>LB1000</td>\n",
       "      <td>6.84615</td>\n",
       "    </tr>\n",
       "    <tr>\n",
       "      <th>1</th>\n",
       "      <td>2021-07-28 06:00:00</td>\n",
       "      <td>MARK</td>\n",
       "      <td>718172CQ0</td>\n",
       "      <td>-0.618819</td>\n",
       "      <td>91282CCK5</td>\n",
       "      <td>-39</td>\n",
       "      <td>PM</td>\n",
       "      <td>PM 1 1/8 05/01/23</td>\n",
       "      <td>Consumer, Non-cyclical</td>\n",
       "      <td>B02</td>\n",
       "      <td>1487</td>\n",
       "      <td>LB1000</td>\n",
       "      <td>6.84615</td>\n",
       "    </tr>\n",
       "    <tr>\n",
       "      <th>2</th>\n",
       "      <td>2021-07-28 06:00:00</td>\n",
       "      <td>MARK</td>\n",
       "      <td>03073EAS4</td>\n",
       "      <td>0.060743</td>\n",
       "      <td>91282CCK5</td>\n",
       "      <td>5</td>\n",
       "      <td>ABC</td>\n",
       "      <td>ABC 0.737 03/15/23</td>\n",
       "      <td>Consumer, Non-cyclical</td>\n",
       "      <td>B02</td>\n",
       "      <td>427</td>\n",
       "      <td>LB0250</td>\n",
       "      <td>1.00000</td>\n",
       "    </tr>\n",
       "    <tr>\n",
       "      <th>3</th>\n",
       "      <td>2021-07-28 06:00:00</td>\n",
       "      <td>MARK</td>\n",
       "      <td>723484AH4</td>\n",
       "      <td>0.291196</td>\n",
       "      <td>91282CCJ8</td>\n",
       "      <td>-13</td>\n",
       "      <td>PNW</td>\n",
       "      <td>PNW 1.3 06/15/25</td>\n",
       "      <td>Utilities</td>\n",
       "      <td>B05</td>\n",
       "      <td>2533</td>\n",
       "      <td>LB2000</td>\n",
       "      <td>27.00000</td>\n",
       "    </tr>\n",
       "    <tr>\n",
       "      <th>4</th>\n",
       "      <td>2021-07-28 06:00:00</td>\n",
       "      <td>MARK</td>\n",
       "      <td>742718ER6</td>\n",
       "      <td>-0.212672</td>\n",
       "      <td>91282CCJ8</td>\n",
       "      <td>2</td>\n",
       "      <td>PG</td>\n",
       "      <td>PG 2.45 11/03/26</td>\n",
       "      <td>Consumer, Non-cyclical</td>\n",
       "      <td>B05</td>\n",
       "      <td>1916</td>\n",
       "      <td>LB1000</td>\n",
       "      <td>10.00000</td>\n",
       "    </tr>\n",
       "  </tbody>\n",
       "</table>\n",
       "</div>"
      ],
      "text/plain": [
       "            timestamp  type      cusip  spread_pnl benchmark_cusip  \\\n",
       "0 2021-07-28 06:00:00  MARK  718172CQ0   -0.618819       91282CCK5   \n",
       "1 2021-07-28 06:00:00  MARK  718172CQ0   -0.618819       91282CCK5   \n",
       "2 2021-07-28 06:00:00  MARK  03073EAS4    0.060743       91282CCK5   \n",
       "3 2021-07-28 06:00:00  MARK  723484AH4    0.291196       91282CCJ8   \n",
       "4 2021-07-28 06:00:00  MARK  742718ER6   -0.212672       91282CCJ8   \n",
       "\n",
       "   new_position ticker         securitydes          industrySector mat_bucket  \\\n",
       "0           -39     PM   PM 1 1/8 05/01/23  Consumer, Non-cyclical        B02   \n",
       "1           -39     PM   PM 1 1/8 05/01/23  Consumer, Non-cyclical        B02   \n",
       "2             5    ABC  ABC 0.737 03/15/23  Consumer, Non-cyclical        B02   \n",
       "3           -13    PNW    PNW 1.3 06/15/25               Utilities        B05   \n",
       "4             2     PG    PG 2.45 11/03/26  Consumer, Non-cyclical        B05   \n",
       "\n",
       "   liq_score liq_bucket  weightedage  \n",
       "0       1487     LB1000      6.84615  \n",
       "1       1487     LB1000      6.84615  \n",
       "2        427     LB0250      1.00000  \n",
       "3       2533     LB2000     27.00000  \n",
       "4       1916     LB1000     10.00000  "
      ]
     },
     "execution_count": 41,
     "metadata": {},
     "output_type": "execute_result"
    }
   ],
   "source": [
    "df.head()"
   ]
  },
  {
   "cell_type": "code",
   "execution_count": 42,
   "id": "b6e1fd36",
   "metadata": {},
   "outputs": [
    {
     "data": {
      "text/plain": [
       "['timestamp',\n",
       " 'type',\n",
       " 'cusip',\n",
       " 'spread_pnl',\n",
       " 'benchmark_cusip',\n",
       " 'new_position',\n",
       " 'ticker',\n",
       " 'securitydes',\n",
       " 'industrySector',\n",
       " 'mat_bucket',\n",
       " 'liq_score',\n",
       " 'liq_bucket',\n",
       " 'weightedage']"
      ]
     },
     "execution_count": 42,
     "metadata": {},
     "output_type": "execute_result"
    }
   ],
   "source": [
    "list(df.columns)"
   ]
  },
  {
   "cell_type": "markdown",
   "id": "922c5f46",
   "metadata": {},
   "source": []
  },
  {
   "cell_type": "code",
   "execution_count": 43,
   "id": "3d3d2670",
   "metadata": {},
   "outputs": [
    {
     "data": {
      "text/plain": [
       "2021-07-28 20:55:00    470\n",
       "2021-07-28 20:45:00    470\n",
       "2021-07-28 20:35:00    470\n",
       "2021-07-28 20:10:00    470\n",
       "2021-07-28 20:30:00    470\n",
       "                      ... \n",
       "2021-07-28 11:55:00     29\n",
       "2021-07-28 07:25:00     29\n",
       "2021-07-28 17:20:00     24\n",
       "2021-07-28 07:35:00     13\n",
       "2021-07-28 06:05:00      2\n",
       "Name: timestamp, Length: 159, dtype: int64"
      ]
     },
     "execution_count": 43,
     "metadata": {},
     "output_type": "execute_result"
    }
   ],
   "source": [
    "df['timestamp'].value_counts()"
   ]
  },
  {
   "cell_type": "code",
   "execution_count": 44,
   "id": "4856c194",
   "metadata": {},
   "outputs": [
    {
     "data": {
      "text/plain": [
       "476"
      ]
     },
     "execution_count": 44,
     "metadata": {},
     "output_type": "execute_result"
    }
   ],
   "source": [
    "total_securities = len(df['cusip'].value_counts())\n",
    "total_securities"
   ]
  },
  {
   "cell_type": "code",
   "execution_count": 71,
   "id": "2306dbc1",
   "metadata": {},
   "outputs": [
    {
     "data": {
      "text/plain": [
       "189"
      ]
     },
     "execution_count": 71,
     "metadata": {},
     "output_type": "execute_result"
    }
   ],
   "source": [
    "total_tickers = len(df['ticker'].value_counts())\n",
    "total_tickers"
   ]
  },
  {
   "cell_type": "code",
   "execution_count": 45,
   "id": "279c6f7c",
   "metadata": {},
   "outputs": [
    {
     "data": {
      "text/plain": [
       "MARK    55718\n",
       "Name: type, dtype: int64"
      ]
     },
     "execution_count": 45,
     "metadata": {},
     "output_type": "execute_result"
    }
   ],
   "source": [
    "df['type'].value_counts()"
   ]
  },
  {
   "cell_type": "code",
   "execution_count": 46,
   "id": "c7233814",
   "metadata": {},
   "outputs": [
    {
     "name": "stdout",
     "output_type": "stream",
     "text": [
      "55718 55717\n"
     ]
    }
   ],
   "source": [
    "# Duplicate??\n",
    "print(len(df), len(df.drop_duplicates()))"
   ]
  },
  {
   "cell_type": "code",
   "execution_count": null,
   "id": "80946133",
   "metadata": {},
   "outputs": [],
   "source": []
  },
  {
   "cell_type": "code",
   "execution_count": null,
   "id": "cf28d6f7",
   "metadata": {},
   "outputs": [],
   "source": []
  },
  {
   "cell_type": "code",
   "execution_count": null,
   "id": "15651fa8",
   "metadata": {},
   "outputs": [],
   "source": []
  },
  {
   "cell_type": "code",
   "execution_count": null,
   "id": "6219afb3",
   "metadata": {},
   "outputs": [],
   "source": []
  },
  {
   "cell_type": "code",
   "execution_count": null,
   "id": "cdba40e6",
   "metadata": {},
   "outputs": [],
   "source": []
  },
  {
   "cell_type": "code",
   "execution_count": null,
   "id": "c6cee2c2",
   "metadata": {},
   "outputs": [],
   "source": []
  },
  {
   "cell_type": "code",
   "execution_count": null,
   "id": "212c811a",
   "metadata": {},
   "outputs": [],
   "source": []
  },
  {
   "cell_type": "code",
   "execution_count": null,
   "id": "626778ae",
   "metadata": {},
   "outputs": [],
   "source": []
  },
  {
   "cell_type": "code",
   "execution_count": null,
   "id": "ab57f344",
   "metadata": {},
   "outputs": [],
   "source": []
  },
  {
   "cell_type": "code",
   "execution_count": 167,
   "id": "60c16ae4",
   "metadata": {},
   "outputs": [
    {
     "data": {
      "image/png": "[encoded data removed]",
      "text/plain": [
       "<Figure size 432x288 with 1 Axes>"
      ]
     },
     "metadata": {
      "needs_background": "light"
     },
     "output_type": "display_data"
    }
   ],
   "source": [
    "plt.plot(df.groupby('timestamp').count()['spread_pnl'])\n",
    "plt.xticks(rotation=45)\n",
    "plt.title('Count of Records Over Time')\n",
    "plt.xlabel('Time')\n",
    "plt.ylabel('Count')\n",
    "plt.show()"
   ]
  },
  {
   "cell_type": "code",
   "execution_count": 168,
   "id": "bc80b14e",
   "metadata": {},
   "outputs": [
    {
     "data": {
      "image/png": "[encoded data removed]",
      "text/plain": [
       "<Figure size 432x288 with 1 Axes>"
      ]
     },
     "metadata": {
      "needs_background": "light"
     },
     "output_type": "display_data"
    }
   ],
   "source": [
    "plt.plot(np.cumsum(df.groupby('timestamp').sum()['spread_pnl']), label='P&L')\n",
    "plt.xticks(rotation=45)\n",
    "plt.title('Sum of P&L in the Trading Day')\n",
    "plt.legend()\n",
    "plt.xlabel('Time')\n",
    "plt.ylabel('Dollars ($)')\n",
    "plt.show()"
   ]
  },
  {
   "cell_type": "code",
   "execution_count": null,
   "id": "3c4c7e6f",
   "metadata": {},
   "outputs": [],
   "source": []
  },
  {
   "cell_type": "code",
   "execution_count": 169,
   "id": "fa62c571",
   "metadata": {},
   "outputs": [
    {
     "data": {
      "text/html": [
       "<div>\n",
       "<style scoped>\n",
       "    .dataframe tbody tr th:only-of-type {\n",
       "        vertical-align: middle;\n",
       "    }\n",
       "\n",
       "    .dataframe tbody tr th {\n",
       "        vertical-align: top;\n",
       "    }\n",
       "\n",
       "    .dataframe thead th {\n",
       "        text-align: right;\n",
       "    }\n",
       "</style>\n",
       "<table border=\"1\" class=\"dataframe\">\n",
       "  <thead>\n",
       "    <tr style=\"text-align: right;\">\n",
       "      <th></th>\n",
       "      <th>cusip</th>\n",
       "      <th>spread_pnl</th>\n",
       "    </tr>\n",
       "  </thead>\n",
       "  <tbody>\n",
       "    <tr>\n",
       "      <th>52075</th>\n",
       "      <td>05369AAK7</td>\n",
       "      <td>-22.115375</td>\n",
       "    </tr>\n",
       "    <tr>\n",
       "      <th>53005</th>\n",
       "      <td>693475AX3</td>\n",
       "      <td>-21.354701</td>\n",
       "    </tr>\n",
       "    <tr>\n",
       "      <th>54229</th>\n",
       "      <td>37045XDA1</td>\n",
       "      <td>-21.102074</td>\n",
       "    </tr>\n",
       "    <tr>\n",
       "      <th>52426</th>\n",
       "      <td>46625HKC3</td>\n",
       "      <td>-18.743561</td>\n",
       "    </tr>\n",
       "    <tr>\n",
       "      <th>51368</th>\n",
       "      <td>92826CAD4</td>\n",
       "      <td>-16.764232</td>\n",
       "    </tr>\n",
       "  </tbody>\n",
       "</table>\n",
       "</div>"
      ],
      "text/plain": [
       "           cusip  spread_pnl\n",
       "52075  05369AAK7  -22.115375\n",
       "53005  693475AX3  -21.354701\n",
       "54229  37045XDA1  -21.102074\n",
       "52426  46625HKC3  -18.743561\n",
       "51368  92826CAD4  -16.764232"
      ]
     },
     "execution_count": 169,
     "metadata": {},
     "output_type": "execute_result"
    }
   ],
   "source": [
    "# Biggest drivers for time range\n",
    "start_time = '2021-07-28 20:40:00'\n",
    "end_time = '2021-07-28 21:40:00'\n",
    "\n",
    "a = df[(df['timestamp'] > start_time) & (df['timestamp'] < end_time)][['cusip', 'spread_pnl']]\n",
    "a = a.sort_values(by='spread_pnl')\n",
    "losers = a[:5]\n",
    "winners = a[-5:]\n",
    "losers"
   ]
  },
  {
   "cell_type": "code",
   "execution_count": 170,
   "id": "c7d97900",
   "metadata": {},
   "outputs": [
    {
     "data": {
      "text/html": [
       "<div>\n",
       "<style scoped>\n",
       "    .dataframe tbody tr th:only-of-type {\n",
       "        vertical-align: middle;\n",
       "    }\n",
       "\n",
       "    .dataframe tbody tr th {\n",
       "        vertical-align: top;\n",
       "    }\n",
       "\n",
       "    .dataframe thead th {\n",
       "        text-align: right;\n",
       "    }\n",
       "</style>\n",
       "<table border=\"1\" class=\"dataframe\">\n",
       "  <thead>\n",
       "    <tr style=\"text-align: right;\">\n",
       "      <th></th>\n",
       "      <th>cusip</th>\n",
       "      <th>spread_pnl</th>\n",
       "    </tr>\n",
       "  </thead>\n",
       "  <tbody>\n",
       "    <tr>\n",
       "      <th>52465</th>\n",
       "      <td>05369AAK7</td>\n",
       "      <td>24.661116</td>\n",
       "    </tr>\n",
       "    <tr>\n",
       "      <th>51414</th>\n",
       "      <td>89236THG3</td>\n",
       "      <td>27.442813</td>\n",
       "    </tr>\n",
       "    <tr>\n",
       "      <th>54120</th>\n",
       "      <td>928563AJ4</td>\n",
       "      <td>28.179489</td>\n",
       "    </tr>\n",
       "    <tr>\n",
       "      <th>51392</th>\n",
       "      <td>037833DX5</td>\n",
       "      <td>38.320929</td>\n",
       "    </tr>\n",
       "    <tr>\n",
       "      <th>54364</th>\n",
       "      <td>928668BL5</td>\n",
       "      <td>75.464514</td>\n",
       "    </tr>\n",
       "  </tbody>\n",
       "</table>\n",
       "</div>"
      ],
      "text/plain": [
       "           cusip  spread_pnl\n",
       "52465  05369AAK7   24.661116\n",
       "51414  89236THG3   27.442813\n",
       "54120  928563AJ4   28.179489\n",
       "51392  037833DX5   38.320929\n",
       "54364  928668BL5   75.464514"
      ]
     },
     "execution_count": 170,
     "metadata": {},
     "output_type": "execute_result"
    }
   ],
   "source": [
    "winners"
   ]
  },
  {
   "cell_type": "code",
   "execution_count": null,
   "id": "9be5392a",
   "metadata": {},
   "outputs": [],
   "source": []
  },
  {
   "cell_type": "code",
   "execution_count": null,
   "id": "92a13389",
   "metadata": {},
   "outputs": [],
   "source": []
  },
  {
   "cell_type": "code",
   "execution_count": null,
   "id": "54d7720f",
   "metadata": {},
   "outputs": [],
   "source": []
  }
 ],
 "metadata": {
  "kernelspec": {
   "display_name": "Python 3 (ipykernel)",
   "language": "python",
   "name": "python3"
  },
  "language_info": {
   "codemirror_mode": {
    "name": "ipython",
    "version": 3
   },
   "file_extension": ".py",
   "mimetype": "text/x-python",
   "name": "python",
   "nbconvert_exporter": "python",
   "pygments_lexer": "ipython3",
   "version": "3.8.5"
  }
 },
 "nbformat": 4,
 "nbformat_minor": 5
}
